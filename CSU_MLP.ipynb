{
  "cells": [
    {
      "attachments": {},
      "cell_type": "markdown",
      "metadata": {
        "id": "zgaE42Gk_s2L"
      },
      "source": [
        "# **CSU Machine Learning Probabilities**\n",
        "<a href=\"https://githubtocolab.com/csteele2/Wx4Colab/blob/master/CSU_MLP.ipynb\" target=\"_parent\"><img src=\"https://colab.research.google.com/assets/colab-badge.svg\" alt=\"Open in Colab\"/></a> <br/>\n",
        "\n",
        "A notebook to look at future or past [Colorado State Machine Learning Probabilities](http://schumacher.atmos.colostate.edu/hilla/csu_mlp/index.php)  <s>Excessive Rainfall or</s> Severe Weather Outlooks. <s>There are a few different versions you can look at. The EROs have multiple versions that vary based on the training dataset and/or input models used.</s> For severe, day 1 - 3 probs are by element, for days 3+, it's aggregate only. <s>While plotting ERO, for verification purposes, you can overlay LSRs (using the Iowa State API), and/or WPC verification layers, such as \"practically perfect\" analysis, as well as UFVS Stage IV QPE obs. For severe verification, only LSRs are available. </s><br />\n",
        " It should be as simple as running the first cell to setup the environment, then setting options in the form and running that cell. Subsequent plots during the session can be made by making changes to the form and reunning that cell, no need to keep trying to install and import packages with the first cell.\n",
        "\n",
        " > 5-Aug-2024: Reset time! A new data source and new visualization has (hopefully temporarily) reduced functionality. The bad news - the only thing display now is the latest run convective severe probabilities. The good news - it's on an interactive map! ERO, support for archive and LSRs, etc. will return in time.\n",
        "\n",
        " > 10-Oct-2023: Since cfgrib kinda stopped working with the existing implementation of condacolab, and since condacolab isn't necessary anymore now that google colab is on py 3.10+, removed the install of conda colab (which removed a step and error message! yay!). Also synced some changes with CONUS projection and titles.\n",
        "\n",
        "*29-December-2022 <br/>\n",
        "Caleb Steele* <br/>\n",
        "https://github.com/csteele2/Wx4Colab\n",
        "\n"
      ]
    },
    {
      "cell_type": "markdown",
      "metadata": {
        "id": "fjW_wFnPGGrv"
      },
      "source": [
        "## **1 - Install and import**\n",
        "\n",
        "This will install and import everything we need. You need only run this once per session, then you can make all the changes to the form and make as many plots as you wish without having to rerun this cell (unless your session expires and spins down)."
      ]
    },
    {
      "cell_type": "code",
      "execution_count": null,
      "metadata": {
        "colab": {
          "base_uri": "https://localhost:8080/"
        },
        "id": "BChrdLgHp7MU",
        "outputId": "1168d593-5ea0-440b-cc4b-09b9744b22f1"
      },
      "outputs": [],
      "source": [
        "!pip install ecmwflibs\n",
        "!pip install eccodes\n",
        "!pip install cfgrib\n",
        "!pip install cartopy xarray geoviews\n",
        "\n",
        "import numpy as np\n",
        "import os\n",
        "from urllib.request import urlretrieve\n",
        "\n",
        "import matplotlib\n",
        "from matplotlib.colors import LinearSegmentedColormap\n",
        "import matplotlib.patches as mpatches\n",
        "from matplotlib.lines import Line2D\n",
        "import matplotlib.pyplot as plt\n",
        "import matplotlib.axes as maxes\n",
        "import matplotlib.patheffects as PathEffects\n",
        "from matplotlib.path import Path\n",
        "from matplotlib.textpath import TextToPath\n",
        "from matplotlib.font_manager import FontProperties\n",
        "matplotlib.rcParams['font.sans-serif'] = 'Liberation Sans'\n",
        "matplotlib.rcParams['font.family'] = \"sans-serif\"\n",
        "from cartopy import cartopy, crs as ccrs, feature as cfeature\n",
        "\n",
        "import xarray as xr\n",
        "import pandas as pd\n",
        "import json\n",
        "import geoviews as gv\n",
        "import geoviews.feature as gf\n",
        "from geoviews import opts, tile_sources as gvts\n",
        "from bokeh.models import Title\n",
        "\n",
        "from datetime import datetime, timedelta, timezone\n",
        "\n",
        "import warnings\n",
        "warnings.filterwarnings(\"ignore\")"
      ]
    },
    {
      "cell_type": "markdown",
      "metadata": {
        "id": "sp5UcB7XGPvG"
      },
      "source": [
        "## **2 - Set options and go!**\n",
        "\n",
        "Set all your options in the form below and go!"
      ]
    },
    {
      "cell_type": "code",
      "execution_count": null,
      "metadata": {
        "colab": {
          "base_uri": "https://localhost:8080/",
          "height": 877
        },
        "id": "qQyBebPpqYFp",
        "outputId": "6555cc7e-021c-4b5c-cc90-bc2b5f798325"
      },
      "outputs": [],
      "source": [
        "#################### FORM STUFF HERE ###################################################################################\n",
        "# Removed = date/cycle selection\n",
        "\n",
        "current_time = datetime.now(timezone.utc)\n",
        "\n",
        "if current_time.hour < 5:\n",
        "  init_date = current_time.replace(hour=12, minute=0, second=0, microsecond=0) - timedelta(days=1)\n",
        "  init_cycle = 12\n",
        "elif current_time.hour < 17:\n",
        "  init_date = current_time.replace(hour=0, minute=0, second=0, microsecond=0)\n",
        "  init_cycle = 0\n",
        "else:\n",
        "  init_date = current_time.replace(hour=12, minute=0, second=0, microsecond=0)\n",
        "  init_cycle = 12\n",
        "\n",
        "\n",
        "#@markdown <br /> <h2> <b> Which Day? </b></h2>\n",
        "day = 3 #@param {type:\"raw\"} [1, 2, 3, 4, 5, 6, 7, 8]\n",
        "day = int(day)\n",
        "\n",
        "# Removed - ERO/Severe Selection\n",
        "hazard = \"Severe\"\n",
        "#@markdown <b> If Day < 3 severe, which hazard? </b>\n",
        "#@markdown <br />[Hazard will only be \"severe\" (combined) beyond day 3]\n",
        "severe_hazard = \"SEVERE\" #@param [\"TOR\", \"HAIL\", \"WIND\", \"SEVERE\"]\n",
        "\n",
        "#@markdown  <br /> <h2> <b> Select map theme </b></h2>\n",
        "map_theme = \"ESRI Terrain\" # @param [\"ESRI Imagery\",\"ESRI Terrain\",\"ESRI Light Grey\"]\n",
        "\n",
        "\n",
        "dayHourDict = {\n",
        "    0: {\n",
        "      1 : 36,\n",
        "      2: 60,\n",
        "      3: 84,\n",
        "      4: 108,\n",
        "      5: 132,\n",
        "      6: 156,\n",
        "      7: 180,\n",
        "      8: 204\n",
        "    },\n",
        "    12: {\n",
        "      2: 48,\n",
        "      3: 72,\n",
        "      4: 96,\n",
        "      5: 120,\n",
        "      6: 144,\n",
        "      7: 168,\n",
        "      8: 192\n",
        "    }\n",
        "\n",
        "}\n",
        "valid_date = init_date + timedelta(hours = dayHourDict[init_cycle][day])\n",
        "valid_date_start = valid_date - timedelta(hours = 24)\n",
        "\n",
        "if dayHourDict[init_cycle][day] > 84:\n",
        "  severe_hazard = \"severe\"\n",
        "  print(\"   > Only general severe available at this range\")\n",
        "\n",
        "title_text = f\"CSU MLP · Day {str(day)} {severe_hazard.capitalize()}\\nInit: {init_date.strftime('%HZ %d-%b-%Y')} | Valid: {valid_date.strftime('%HZ %m-%d-%Y')}\"\n",
        "\n",
        "# set up some global variables here\n",
        "\n",
        "latloncrs = ccrs.PlateCarree()\n",
        "WebMerc = ccrs.Mercator.GOOGLE\n",
        "\n",
        "\n",
        "# Set up the URL\n",
        "url_base = f\"https://nomads.ncep.noaa.gov/pub/data/nccf/com/spc_post/prod/spc_post.{init_date.strftime('%Y%m%d')}/gefs_mlp/\"\n",
        "file = f\"spc_post.t{init_date.strftime('%Hz')}.gefsmlp_{severe_hazard.lower()}_std.f{str(dayHourDict[init_cycle][day]).zfill(3)}.grib2\"\n",
        "url = url_base+file\n",
        "\n",
        "\n",
        "################## DOWNLOAD HERE #######################################################################################\n",
        "print('Looking for grib file...')\n",
        "if os.path.exists(file):\n",
        "  print(\"   > Grib already exists\")\n",
        "else:\n",
        "  try:\n",
        "    print(\"   > Downloading grib\")\n",
        "    urlretrieve(url, file)\n",
        "  except:\n",
        "    print(f\"     >> Unable to get file [{url}]\")\n",
        "\n",
        "print('   > Processing grib file')\n",
        "mlp_ds = xr.open_dataset(file, engine=\"cfgrib\")\n",
        "dkey = list(mlp_ds.keys())[0]\n",
        "mlp_ds[dkey] = mlp_ds[dkey]*100\n",
        "\n",
        "\n",
        "\n",
        "################ Make a geoviews dataset and show an interactive map ###################################################\n",
        "# make a geoviews dataset\n",
        "mlp_gv = gv.Dataset(mlp_ds, ['longitude', 'latitude',], dkey, crs=latloncrs)\n",
        "# convert to filled contours\n",
        "contours = mlp_gv.to(gv.FilledContours)\n",
        "# set up the contour colors\n",
        "SVR_COLS = [\"#ffffff00\", \"#dcdcdcaa\", \"#b9c9baaa\", \"#f1c86aaa\", \"#ed7645aa\", \"#ce2754aa\", \"#a20435aa\",\"#630157aa\"]\n",
        "SVR_LEVS = [0.0, 2, 5, 10, 15, 30, 45, 60, 100]\n",
        "#SVR_CMAP, SVR_NORM = matplotlib.colors.from_levels_and_colors(SVR_LEVS, SVR_COLS, extend='max')\n",
        "\n",
        "# set the initial map bounds\n",
        "xymin = WebMerc.transform_point(-130, 25, latloncrs)\n",
        "xymax = WebMerc.transform_point(-64, 50, latloncrs)\n",
        "\n",
        "print('Making interactive map...')\n",
        "\n",
        "# use the bokeh back end\n",
        "gv.extension('bokeh')\n",
        "\n",
        "# setup the map theme (chosen from the form)\n",
        "match map_theme:\n",
        "  case \"ESRI Imagery\":\n",
        "    map_layers = gvts.EsriImagery * gvts.EsriReference(level='overlay')\n",
        "  case \"ESRI Terrain\":\n",
        "    map_layers = gvts.EsriTerrain * gvts.EsriReference(level='overlay')\n",
        "  case \"ESRI Light Grey\":\n",
        "    map_layers = gvts.EsriWorldLightGrayBase * gvts.EsriWorldLightGrayReference(level='overlay')\n",
        "  case _:\n",
        "    map_layers = gvts.EsriTerrain * gvts.EsriReference(level='overlay')\n",
        "\n",
        "# now just put everything together and show it\n",
        "map =  map_layers * contours.opts(cmap=SVR_COLS, color_levels=SVR_LEVS, colorbar=True, width=1000, height=650, line_color=None, title=title_text)\n",
        "map.opts(projection=WebMerc, xlim=(xymin[0], xymax[0]), ylim=(xymin[1], xymax[1]), global_extent=False)"
      ]
    }
  ],
  "metadata": {
    "colab": {
      "collapsed_sections": [
        "ncFko210FuRm",
        "fjW_wFnPGGrv"
      ],
      "provenance": []
    },
    "kernelspec": {
      "display_name": "base",
      "language": "python",
      "name": "python3"
    },
    "language_info": {
      "codemirror_mode": {
        "name": "ipython",
        "version": 3
      },
      "file_extension": ".py",
      "mimetype": "text/x-python",
      "name": "python",
      "nbconvert_exporter": "python",
      "pygments_lexer": "ipython3",
      "version": "3.9.16"
    },
    "vscode": {
      "interpreter": {
        "hash": "d9efab89797b4f7e4129f7fe7c375038c6a3f1b6c83da7efdea02c4da588d5be"
      }
    }
  },
  "nbformat": 4,
  "nbformat_minor": 0
}
